{
 "cells": [
  {
   "cell_type": "code",
   "execution_count": 1,
   "id": "080fe4ac",
   "metadata": {},
   "outputs": [
    {
     "name": "stdout",
     "output_type": "stream",
     "text": [
      "/f/python_venv/Medical-Chatbot-with-LLMs-LangChain-Pinecone-Flask-AWS/research\n"
     ]
    }
   ],
   "source": [
    "!pwd"
   ]
  },
  {
   "cell_type": "code",
   "execution_count": 2,
   "id": "38351c08",
   "metadata": {},
   "outputs": [
    {
     "name": "stdout",
     "output_type": "stream",
     "text": [
      "/f/python_venv/Medical-Chatbot-with-LLMs-LangChain-Pinecone-Flask-AWS\n"
     ]
    }
   ],
   "source": [
    "import os\n",
    "os.chdir(\"../\")\n",
    "!pwd"
   ]
  },
  {
   "cell_type": "code",
   "execution_count": 3,
   "id": "a7127e09",
   "metadata": {},
   "outputs": [],
   "source": [
    "# load the pdf data\n",
    "from langchain.document_loaders import PyPDFLoader, DirectoryLoader\n"
   ]
  },
  {
   "cell_type": "code",
   "execution_count": 4,
   "id": "ea817141",
   "metadata": {},
   "outputs": [],
   "source": [
    "# extract text from pdf files.\n",
    "def load_pdf_files(pdf_path):\n",
    "    loader = DirectoryLoader(\n",
    "        path=pdf_path,\n",
    "        glob=\"*.pdf\",\n",
    "        loader_cls=PyPDFLoader\n",
    "    )\n",
    "    # path: Path to directory.\n",
    "    # glob: A glob pattern or list of glob patterns to use to find files. Defaults to \"**/[!.]*\" (all files except hidden).\n",
    "    # loader_cls: Loader class to use for loading files. Defaults to UnstructuredFileLoader.\n",
    "\n",
    "    documents = loader.load()\n",
    "    return documents\n"
   ]
  },
  {
   "cell_type": "code",
   "execution_count": 5,
   "id": "a5761dc2",
   "metadata": {},
   "outputs": [],
   "source": [
    "extracted_pdf_data = load_pdf_files(\"data\")"
   ]
  },
  {
   "cell_type": "code",
   "execution_count": 6,
   "id": "f7b76e77",
   "metadata": {},
   "outputs": [
    {
     "data": {
      "text/plain": [
       "list"
      ]
     },
     "execution_count": 6,
     "metadata": {},
     "output_type": "execute_result"
    }
   ],
   "source": [
    "type(extracted_pdf_data)"
   ]
  },
  {
   "cell_type": "code",
   "execution_count": 7,
   "id": "79a3ffa9",
   "metadata": {},
   "outputs": [
    {
     "data": {
      "text/plain": [
       "[Document(metadata={'producer': 'PDFlib+PDI 5.0.0 (SunOS)', 'creator': 'PyPDF', 'creationdate': '2004-12-18T17:00:02-05:00', 'moddate': '2004-12-18T16:15:31-06:00', 'source': 'data\\\\Medical_book.pdf', 'total_pages': 637, 'page': 0, 'page_label': '1'}, page_content=''),\n",
       " Document(metadata={'producer': 'PDFlib+PDI 5.0.0 (SunOS)', 'creator': 'PyPDF', 'creationdate': '2004-12-18T17:00:02-05:00', 'moddate': '2004-12-18T16:15:31-06:00', 'source': 'data\\\\Medical_book.pdf', 'total_pages': 637, 'page': 1, 'page_label': '2'}, page_content='The GALE\\nENCYCLOPEDIA\\nof MEDICINE\\nSECOND EDITION'),\n",
       " Document(metadata={'producer': 'PDFlib+PDI 5.0.0 (SunOS)', 'creator': 'PyPDF', 'creationdate': '2004-12-18T17:00:02-05:00', 'moddate': '2004-12-18T16:15:31-06:00', 'source': 'data\\\\Medical_book.pdf', 'total_pages': 637, 'page': 2, 'page_label': '3'}, page_content='The GALE\\nENCYCLOPEDIA\\nof MEDICINE\\nSECOND EDITION\\nJACQUELINE L. LONGE, EDITOR\\nDEIRDRE S. BLANCHFIELD, ASSOCIATE EDITOR\\nVOLUME\\nA-B\\n1')]"
      ]
     },
     "execution_count": 7,
     "metadata": {},
     "output_type": "execute_result"
    }
   ],
   "source": [
    "extracted_pdf_data[:3]"
   ]
  },
  {
   "cell_type": "code",
   "execution_count": 8,
   "id": "a66a500f",
   "metadata": {},
   "outputs": [
    {
     "data": {
      "text/plain": [
       "637"
      ]
     },
     "execution_count": 8,
     "metadata": {},
     "output_type": "execute_result"
    }
   ],
   "source": [
    "len(extracted_pdf_data)"
   ]
  },
  {
   "cell_type": "code",
   "execution_count": 9,
   "id": "8fd079bc",
   "metadata": {},
   "outputs": [],
   "source": [
    "from typing import List\n",
    "from langchain.schema import Document\n",
    "\n",
    "def filter_to_minimal_docs(docs: List[Document]) -> List[Document]:\n",
    "    \"\"\"\n",
    "    Given a list of Document objects, return a new list of Document objects\n",
    "    containing only 'source' in metadata and the original page_content.\n",
    "    \"\"\"\n",
    "\n",
    "    minimal_docs: List[Document] = []\n",
    "    for doc in docs:\n",
    "        src = doc.metadata.get(\"source\")\n",
    "        minimal_docs.append(\n",
    "            Document(\n",
    "                page_content=doc.page_content,\n",
    "                metadata={\"source\": src}\n",
    "            )\n",
    "        )\n",
    "    return minimal_docs\n",
    "\n"
   ]
  },
  {
   "cell_type": "code",
   "execution_count": 10,
   "id": "0f67d56c",
   "metadata": {},
   "outputs": [
    {
     "name": "stdout",
     "output_type": "stream",
     "text": [
      "637\n"
     ]
    },
    {
     "data": {
      "text/plain": [
       "[Document(metadata={'source': 'data\\\\Medical_book.pdf'}, page_content=''),\n",
       " Document(metadata={'source': 'data\\\\Medical_book.pdf'}, page_content='The GALE\\nENCYCLOPEDIA\\nof MEDICINE\\nSECOND EDITION')]"
      ]
     },
     "execution_count": 10,
     "metadata": {},
     "output_type": "execute_result"
    }
   ],
   "source": [
    "minimal_docs = filter_to_minimal_docs(extracted_pdf_data)\n",
    "print(len(minimal_docs))\n",
    "minimal_docs[:2]"
   ]
  },
  {
   "cell_type": "code",
   "execution_count": 11,
   "id": "ab91c54e",
   "metadata": {},
   "outputs": [
    {
     "data": {
      "text/plain": [
       "[Document(metadata={'source': 'data\\\\Medical_book.pdf'}, page_content='The GALE\\nENCYCLOPEDIA\\nof MEDICINE\\nSECOND EDITION\\nJACQUELINE L. LONGE, EDITOR\\nDEIRDRE S. BLANCHFIELD, ASSOCIATE EDITOR\\nVOLUME\\nA-B\\n1'),\n",
       " Document(metadata={'source': 'data\\\\Medical_book.pdf'}, page_content='STAFF\\nJacqueline L. Longe, Project Editor\\nDeirdre S. Blanchfield, Associate Editor\\nChristine B. Jeryan, Managing Editor\\nDonna Olendorf, Senior Editor\\nStacey Blachford, Associate Editor\\nKate Kretschmann, Melissa C. McDade, Ryan\\nThomason, Assistant Editors\\nMark Springer, Technical Specialist\\nAndrea Lopeman, Programmer/Analyst\\nBarbara J. Yarrow,Manager, Imaging and Multimedia\\nContent\\nRobyn V . Young,Project Manager, Imaging and\\nMultimedia Content\\nDean Dauphinais, Senior Editor, Imaging and\\nMultimedia Content\\nKelly A. Quin, Editor, Imaging and Multimedia Content\\nLeitha Etheridge-Sims, Mary K. Grimes, Dave Oblender,\\nImage Catalogers\\nPamela A. Reed, Imaging Coordinator\\nRandy Bassett, Imaging Supervisor\\nRobert Duncan, Senior Imaging Specialist\\nDan Newell, Imaging Specialist\\nChristine O’Bryan,Graphic Specialist\\nMaria Franklin, Permissions Manager\\nMargaret A. Chamberlain, Permissions Specialist\\nMichelle DiMercurio, Senior Art Director\\nMike Logusz, Graphic Artist\\nMary Beth Trimper,Manager, Composition and\\nElectronic Prepress\\nEvi Seoud, Assistant Manager, Composition Purchasing\\nand Electronic Prepress\\nDorothy Maki, Manufacturing Manager\\nWendy Blurton, Senior Manufacturing Specialist\\nThe GALE\\nENCYCLOPEDIA\\nof MEDICINE\\nSECOND EDITION\\nSince this page cannot legibly accommodate all copyright notices, the\\nacknowledgments constitute an extension of the copyright notice.\\nWhile every effort has been made to ensure the reliability of the infor-\\nmation presented in this publication, the Gale Group neither guarantees\\nthe accuracy of the data contained herein nor assumes any responsibili-\\nty for errors, omissions or discrepancies. The Gale Group accepts no\\npayment for listing, and inclusion in the publication of any organiza-\\ntion, agency, institution, publication, service, or individual does not\\nimply endorsement of the editor or publisher. Errors brought to the\\nattention of the publisher and verified to the satisfaction of the publish-\\ner will be corrected in future editions.\\nThis book is printed on recycled paper that meets Environmental Pro-\\ntection Agency standards.\\nThe paper used in this publication meets the minimum requirements of\\nAmerican National Standard for Information Sciences-Permanence\\nPaper for Printed Library Materials, ANSI Z39.48-1984.\\nThis publication is a creative work fully protected by all applicable\\ncopyright laws, as well as by misappropriation, trade secret, unfair com-\\npetition, and other applicable laws. The authors and editor of this work\\nhave added value to the underlying factual material herein through one\\nor more of the following: unique and original selection, coordination,\\nexpression, arrangement, and classification of the information.\\nGale Group and design is a trademark used herein under license.\\nAll rights to this publication will be vigorously defended.\\nCopyright © 2002\\nGale Group\\n27500 Drake Road\\nFarmington Hills, MI 48331-3535\\nAll rights reserved including the right of reproduction in whole or in\\npart in any form.\\nISBN 0-7876-5489-2 (set)\\n0-7876-5490-6 (V ol. 1)\\n0-7876-5491-4 (V ol. 2)\\n0-7876-5492-2 (V ol. 3)\\n0-7876-5493-0 (V ol. 4)\\n0-7876-5494-9 (V ol. 5)\\nPrinted in the United States of America\\n10 9 8 7 6 5 4 3 2 1\\nLibrary of Congress Cataloging-in-Publication Data\\nGale encyclopedia of medicine / Jacqueline L. Longe, editor;\\nDeirdre S. Blanchfield, associate editor — 2nd ed.\\np. cm.\\nIncludes bibliographical references and index.\\nContents: V ol. 1. A-B — v. 2. C-F — v. 3.\\nG-M — v. 4. N-S — v. 5. T-Z.\\nISBN 0-7876-5489-2 (set: hardcover) — ISBN 0-7876-5490-6\\n(vol. 1) — ISBN 0-7876-5491-4 (vol. 2) — ISBN 0-7876-5492-2\\n(vol. 3) — ISBN 0-7876-5493-0 (vol. 4) — ISBN 0-7876-5494-9\\n(vol. 5)\\n1. Internal medicine—Encyclopedias. I. Longe, Jacqueline L. \\nII. Blanchfield, Deirdre S. III. Gale Research Company.\\nRC41.G35 2001\\n616’.003—dc21\\n2001051245'),\n",
       " Document(metadata={'source': 'data\\\\Medical_book.pdf'}, page_content='Introduction.................................................... ix\\nAdvisory Board.............................................. xi\\nContributors ................................................. xiii\\nEntries\\nVolume 1: A-B.............................................. 1\\nVolume 2: C-F.......................................... 625\\nVolume 3: G-M....................................... 1375\\nVolume 4: N-S........................................ 2307\\nVolume 5: T-Z........................................ 3237\\nOrganizations ............................................ 3603\\nGeneral Index............................................ 3625\\nGALE ENCYCLOPEDIA OF MEDICINE 2 V\\nCONTENTS'),\n",
       " Document(metadata={'source': 'data\\\\Medical_book.pdf'}, page_content='The Gale Encyclopedia of Medicine 2is a medical ref-\\nerence product designed to inform and educate readers\\nabout a wide variety of disorders, conditions, treatments,\\nand diagnostic tests. The Gale Group believes the product\\nto be comprehensive, but not necessarily definitive. It is\\nintended to supplement, not replace, consultation with a\\nphysician or other healthcare practitioner. While the Gale\\nGroup has made substantial efforts to provide information\\nthat is accurate, comprehensive, and up-to-date, the Gale\\nGroup makes no representations or warranties of any\\nkind, including without limitation, warranties of mer-\\nchantability or fitness for a particular purpose, nor does it\\nguarantee the accuracy, comprehensiveness, or timeliness\\nof the information contained in this product. Readers\\nshould be aware that the universe of medical knowledge\\nis constantly growing and changing, and that differences\\nof medical opinion exist among authorities. Readers are\\nalso advised to seek professional diagnosis and treatment\\nfor any medical condition, and to discuss information\\nobtained from this book with their health care provider.\\nGALE ENCYCLOPEDIA OF MEDICINE 2 VII\\nPLEASE READ—IMPORTANT INFORMATION'),\n",
       " Document(metadata={'source': 'data\\\\Medical_book.pdf'}, page_content='The Gale Encyclopedia of Medicine 2 (GEM2) is a\\none-stop source for medical information on nearly 1,700\\ncommon medical disorders, conditions, tests, and treat-\\nments, including high-profile diseases such as AIDS,\\nAlzheimer’s disease, cancer, and heart attack. This ency-\\nclopedia avoids medical jargon and uses language that\\nlaypersons can understand, while still providing thor-\\nough coverage of each topic. The Gale Encyclopedia of\\nMedicine 2 fills a gap between basic consumer health\\nresources, such as single-volume family medical guides,\\nand highly technical professional materials.\\nSCOPE\\nAlmost 1,700 full-length articles are included in the\\nGale Encyclopedia of Medicine 2 , including disorders/\\nconditions, tests/procedures, and treatments/therapies.\\nMany common drugs are also covered, with generic drug\\nnames appearing first and brand names following in\\nparentheses, eg. acetaminophen (Tylenol). Throughout\\nthe Gale Encyclopedia of Medicine 2 , many prominent\\nindividuals are highlighted as sidebar biographies that\\naccompany the main topical essays. Articles follow a\\nstandardized format that provides information at a\\nglance. Rubrics include:\\nDisorders/Conditions Tests/Treatments\\nDefinition Definition\\nDescription Purpose\\nCauses and symptoms Precautions\\nDiagnosis Description\\nTreatment Preparation\\nAlternative treatment Aftercare\\nPrognosis Risks\\nPrevention Normal/Abnormal results\\nResources Resources\\nKey terms Key terms\\nIn recent years there has been a resurgence of interest\\nin holistic medicine that emphasizes the connection\\nbetween mind and body. Aimed at achieving and main-\\ntaining good health rather than just eliminating disease,\\nthis approach has come to be known as alternative medi-\\ncine. The Gale Encyclopedia of Medicine 2 includes a\\nnumber of essays on alternative therapies, ranging from\\ntraditional Chinese medicine to homeopathy and from\\nmeditation to aromatherapy. In addition to full essays on\\nalternative therapies, the encyclopedia features specific\\nAlternative treatment sections for diseases and condi-\\ntions that may be helped by complementary therapies.\\nINCLUSION CRITERIA\\nA preliminary list of diseases, disorders, tests and treat-\\nments was compiled from a wide variety of sources,\\nincluding professional medical guides and textbooks as\\nwell as consumer guides and encyclopedias. The general\\nadvisory board, made up of public librarians, medical\\nlibrarians and consumer health experts, evaluated the top-\\nics and made suggestions for inclusion. The list was sorted\\nby category and sent to GEM2 medical advisors, certified\\nphysicians with various medical specialities, for review.\\nFinal selection of topics to include was made by the med-\\nical advisors in conjunction with the Gale Group editor.\\nABOUT THE CONTRIBUTORS\\nThe essays were compiled by experienced medical\\nwriters, including physicians, pharmacists, nurses, and\\nother health care professionals. GEM2 medical advisors\\nreviewed the completed essays to insure that they are\\nappropriate, up-to-date, and medically accurate.\\nHOW TO USE THIS BOOK\\nThe Gale Encyclopedia of Medicine 2 has been\\ndesigned with ready reference in mind.\\n• Straight alphabetical arrangement allows users to\\nlocate information quickly.\\n• Bold-faced terms function as print hyperlinks that\\npoint the reader to related entries in the encyclopedia.\\nGALE ENCYCLOPEDIA OF MEDICINE 2 IX\\nINTRODUCTION'),\n",
       " Document(metadata={'source': 'data\\\\Medical_book.pdf'}, page_content='• Cross-references placed throughout the encyclopedia\\ndirect readers to where information on subjects with-\\nout entries can be found. Synonyms are also cross-ref-\\nerenced.\\n• A list of key terms are provided where appropriate to\\ndefine unfamiliar terms or concepts.\\n• Valuable contact information for organizations and\\nsupport groups is included with each entry. The\\nappendix contains an extensive list of organizations\\narranged in alphabetical order.\\n• Resources section directs users to additional sources\\nof medical information on a topic.\\n• A comprehensive general index allows users to easily\\ntarget detailed aspects of any topic, including Latin\\nnames.\\nGRAPHICS\\nThe Gale Encyclopedia of Medicine 2 is enhanced\\nwith over 675 color images, including photos, charts,\\ntables, and customized line drawings.\\nGALE ENCYCLOPEDIA OF MEDICINE 2X\\nIntroduction'),\n",
       " Document(metadata={'source': 'data\\\\Medical_book.pdf'}, page_content='MEDICAL ADVISORS\\nA. Richard Adrouny, M.D.,\\nF.A.C.P.\\nClinical Assistant Professor of\\nMedicine\\nDivision of Oncology\\nStanford University\\nDirector of Medical Oncology\\nCommunity Hospital of Los Gatos-\\nSaratoga\\nLos Gatos, CA\\nLaurie Barclay, M.D.\\nNeurological Consulting Services\\nTampa, FL\\nKenneth J. Berniker, M.D.\\nAttending Physician\\nEmergency Department\\nKaiser Permanente Medical Center\\nVallejo, CA\\nRosalyn Carson-DeWitt, M.D.\\nDurham, NC\\nRobin Dipasquale, N.D.\\nClinical Faculty\\nBastyr University\\nSeattle, W A\\nFaye Fishman, D.O.\\nRandolph, NJ\\nJ. Gary Grant, M.D.\\nPacific Grove, CA\\nLaith F. Gulli, M.D.\\nM.Sc., M.Sc.(MedSci), MSA,\\nMsc.Psych., MRSNZ\\nFRSH, FRIPHH, FAIC, FZS\\nDAPA, DABFC, DABCI\\nConsultant Psychotherapist in\\nPrivate Practice\\nLathrup Village, MI\\nL. Anne Hirschel, D.D.S.\\nSouthfield, MI\\nLarry I. Lutwick M.D., F.A.C.P.\\nDirector, Infectious Diseases\\nV A Medical Center\\nBrooklyn, NY\\nIra Michelson, M.D., M.B.A.,\\nF.A.C.O.G.\\nPhysician and Clinical Instructor\\nUniversity of Michigan\\nAnn Arbor, MI\\nSusan Mockus, M.D.\\nScientific Consultant\\nSeattle, W A\\nRalph M. Myerson, M.D.,\\nF.A.C.P.\\nClinical Professor of Medicine\\nMedical College of Pennsylvania–\\nHahnemann University\\nPhiladelphia, PA\\nRonald Pies, M.D.\\nClinical Professor of Psychiatry\\nTufts University\\nSchool of Medicine\\nBoston, MA\\nLecturer on Psychiatry\\nHarvard Medical School\\nCambridge, MA\\nLee A. Shratter, M.D.\\nStaff Radiologist\\nThe Permanente Medical Group\\nRichmond, CA\\nAmy B. Tuteur, M.D.\\nSharon, MA\\nLIBRARIAN ADVISORS\\nMaureen O. Carleton, MLIS\\nMedical Reference Specialist\\nKing County Library System\\nBellevue, W A\\nElizabeth Clewis Crim, MLS\\nCollection Specialist\\nPrince William Public Library, V A\\nValerie J. Lawrence, MLS\\nAssistant Librarian\\nWestern States Chiropractic\\nCollege\\nPortland, OR\\nBarbara J. O’Hara, MLS\\nAdult Services Librarian\\nFree Library of Philadelphia, PA\\nAlan M. Rees, MLS\\nProfessor Emeritus\\nCase Western Reserve University\\nCleveland, OH\\nGALE ENCYCLOPEDIA OF MEDICINE 2 XI\\nADVISORY BOARD\\nA number of experts in the library and medical communities provided invaluable assistance in the formulation of this ency-\\nclopedia. Our advisory board performed a myriad of duties, from defining the scope of coverage to reviewing individual\\nentries for accuracy and accessibility. The editor would like to express her appreciation to them.'),\n",
       " Document(metadata={'source': 'data\\\\Medical_book.pdf'}, page_content='Margaret Alic, Ph.D.\\nScience Writer\\nEastsound, W A\\nJanet Byron Anderson\\nLinguist/Language Consultant\\nRocky River, OH\\nLisa Andres, M.S., C.G.C.\\nCertified Genetic Counselor and\\nMedical Writer\\nSan Jose, CA\\nGreg Annussek\\nMedical Writer/Editor\\nNew York, NY\\nBill Asenjo, M.S., C.R.C.\\nScience Writer\\nIowa City, IA\\nSharon A. Aufox, M.S., C.G.C.\\nGenetic Counselor\\nRockford Memorial Hospital\\nRockford, IL\\nSandra Bain Cushman\\nMassage Therapist, Alexander\\nTechnique Practitioner\\nCharlottesville, V A\\nHoward Baker\\nMedical Writer\\nNorth York, Ontario\\nLaurie Barclay, M.D.\\nNeurological Consulting Services\\nTampa, FL\\nJeanine Barone\\nNutritionist, Exercise Physiologist\\nNew York, NY\\nJulia R. Barrett\\nScience Writer\\nMadison, WI\\nDonald G. Barstow, R.N.\\nClincal Nurse Specialist\\nOklahoma City, OK\\nCarin Lea Beltz, M.S.\\nGenetic Counselor and Program\\nDirector\\nThe Center for Genetic Counseling\\nIndianapolis, IN\\nLinda K. Bennington, C.N.S.\\nScience Writer\\nVirginia Beach, V A\\nIssac R. Berniker\\nMedical Writer\\nVallejo, CA\\nKathleen Berrisford, M.S.V .\\nScience Writer\\nBethanne Black\\nMedical Writer\\nAtlanta, GA\\nJennifer Bowjanowski, M.S.,\\nC.G.C.\\nGenetic Counselor\\nChildren’s Hospital Oakland\\nOakland, CA\\nMichelle Q. Bosworth, M.S., C.G.C.\\nGenetic Counselor\\nEugene, OR\\nBarbara Boughton\\nHealth and Medical Writer\\nEl Cerrito, CA\\nCheryl Branche, M.D.\\nRetired General Practitioner\\nJackson, MS\\nMichelle Lee Brandt\\nMedical Writer\\nSan Francisco, CA\\nMaury M. Breecher, Ph.D.\\nHealth Communicator/Journalist\\nNorthport, AL\\nRuthan Brodsky\\nMedical Writer\\nBloomfield Hills, MI\\nTom Brody, Ph.D.\\nScience Writer\\nBerkeley, CA\\nLeonard C. Bruno, Ph.D.\\nMedical Writer\\nChevy Chase, MD\\nDiane Calbrese\\nMedical Sciences and Technology\\nWriter\\nSilver Spring, Maryland\\nRichard H. Camer\\nEditor\\nInternational Medical News Group\\nSilver Spring, MD\\nRosalyn Carson-DeWitt, M.D.\\nMedical Writer\\nDurham, NC\\nLata Cherath, Ph.D.\\nScience Writing Intern\\nCancer Research Institute\\nNew York, NY\\nLinda Chrisman\\nMassage Therapist and Educator\\nOakland, CA\\nLisa Christenson, Ph.D.\\nScience Writer\\nHamden, CT\\nGeoffrey N. Clark, D.V .M.\\nEditor\\nCanine Sports Medicine Update\\nNewmarket, NH\\nGALE ENCYCLOPEDIA OF MEDICINE 2 XIII\\nCONTRIBUTORS')]"
      ]
     },
     "execution_count": 11,
     "metadata": {},
     "output_type": "execute_result"
    }
   ],
   "source": [
    "minimal_docs[2:10]"
   ]
  },
  {
   "cell_type": "code",
   "execution_count": 12,
   "id": "0a8b8523",
   "metadata": {},
   "outputs": [],
   "source": [
    "# split the documents into smaller chunks\n",
    "from langchain.text_splitter import RecursiveCharacterTextSplitter\n",
    "\n",
    "def text_split(minimal_docs):\n",
    "    text_splitter = RecursiveCharacterTextSplitter(\n",
    "        chunk_size=500, # consider 500 characters as 1 chunk.\n",
    "        chunk_overlap=20, # overlap 20 characters for each chunk.\n",
    "    )\n",
    "    text_chunks = text_splitter.split_documents(minimal_docs)\n",
    "    return text_chunks"
   ]
  },
  {
   "cell_type": "code",
   "execution_count": 13,
   "id": "7a0f6811",
   "metadata": {},
   "outputs": [
    {
     "name": "stdout",
     "output_type": "stream",
     "text": [
      "Number of chunks: 5859\n"
     ]
    }
   ],
   "source": [
    "text_chunks = text_split(minimal_docs=minimal_docs)\n",
    "print(f\"Number of chunks: {len(text_chunks)}\")"
   ]
  },
  {
   "cell_type": "code",
   "execution_count": 14,
   "id": "711f84b3",
   "metadata": {},
   "outputs": [
    {
     "data": {
      "text/plain": [
       "[Document(metadata={'source': 'data\\\\Medical_book.pdf'}, page_content='The GALE\\nENCYCLOPEDIA\\nof MEDICINE\\nSECOND EDITION'),\n",
       " Document(metadata={'source': 'data\\\\Medical_book.pdf'}, page_content='The GALE\\nENCYCLOPEDIA\\nof MEDICINE\\nSECOND EDITION\\nJACQUELINE L. LONGE, EDITOR\\nDEIRDRE S. BLANCHFIELD, ASSOCIATE EDITOR\\nVOLUME\\nA-B\\n1'),\n",
       " Document(metadata={'source': 'data\\\\Medical_book.pdf'}, page_content='STAFF\\nJacqueline L. Longe, Project Editor\\nDeirdre S. Blanchfield, Associate Editor\\nChristine B. Jeryan, Managing Editor\\nDonna Olendorf, Senior Editor\\nStacey Blachford, Associate Editor\\nKate Kretschmann, Melissa C. McDade, Ryan\\nThomason, Assistant Editors\\nMark Springer, Technical Specialist\\nAndrea Lopeman, Programmer/Analyst\\nBarbara J. Yarrow,Manager, Imaging and Multimedia\\nContent\\nRobyn V . Young,Project Manager, Imaging and\\nMultimedia Content\\nDean Dauphinais, Senior Editor, Imaging and'),\n",
       " Document(metadata={'source': 'data\\\\Medical_book.pdf'}, page_content='Multimedia Content\\nKelly A. Quin, Editor, Imaging and Multimedia Content\\nLeitha Etheridge-Sims, Mary K. Grimes, Dave Oblender,\\nImage Catalogers\\nPamela A. Reed, Imaging Coordinator\\nRandy Bassett, Imaging Supervisor\\nRobert Duncan, Senior Imaging Specialist\\nDan Newell, Imaging Specialist\\nChristine O’Bryan,Graphic Specialist\\nMaria Franklin, Permissions Manager\\nMargaret A. Chamberlain, Permissions Specialist\\nMichelle DiMercurio, Senior Art Director\\nMike Logusz, Graphic Artist'),\n",
       " Document(metadata={'source': 'data\\\\Medical_book.pdf'}, page_content='Mary Beth Trimper,Manager, Composition and\\nElectronic Prepress\\nEvi Seoud, Assistant Manager, Composition Purchasing\\nand Electronic Prepress\\nDorothy Maki, Manufacturing Manager\\nWendy Blurton, Senior Manufacturing Specialist\\nThe GALE\\nENCYCLOPEDIA\\nof MEDICINE\\nSECOND EDITION\\nSince this page cannot legibly accommodate all copyright notices, the\\nacknowledgments constitute an extension of the copyright notice.\\nWhile every effort has been made to ensure the reliability of the infor-'),\n",
       " Document(metadata={'source': 'data\\\\Medical_book.pdf'}, page_content='mation presented in this publication, the Gale Group neither guarantees\\nthe accuracy of the data contained herein nor assumes any responsibili-\\nty for errors, omissions or discrepancies. The Gale Group accepts no\\npayment for listing, and inclusion in the publication of any organiza-\\ntion, agency, institution, publication, service, or individual does not\\nimply endorsement of the editor or publisher. Errors brought to the\\nattention of the publisher and verified to the satisfaction of the publish-'),\n",
       " Document(metadata={'source': 'data\\\\Medical_book.pdf'}, page_content='er will be corrected in future editions.\\nThis book is printed on recycled paper that meets Environmental Pro-\\ntection Agency standards.\\nThe paper used in this publication meets the minimum requirements of\\nAmerican National Standard for Information Sciences-Permanence\\nPaper for Printed Library Materials, ANSI Z39.48-1984.\\nThis publication is a creative work fully protected by all applicable\\ncopyright laws, as well as by misappropriation, trade secret, unfair com-'),\n",
       " Document(metadata={'source': 'data\\\\Medical_book.pdf'}, page_content='petition, and other applicable laws. The authors and editor of this work\\nhave added value to the underlying factual material herein through one\\nor more of the following: unique and original selection, coordination,\\nexpression, arrangement, and classification of the information.\\nGale Group and design is a trademark used herein under license.\\nAll rights to this publication will be vigorously defended.\\nCopyright © 2002\\nGale Group\\n27500 Drake Road\\nFarmington Hills, MI 48331-3535'),\n",
       " Document(metadata={'source': 'data\\\\Medical_book.pdf'}, page_content='All rights reserved including the right of reproduction in whole or in\\npart in any form.\\nISBN 0-7876-5489-2 (set)\\n0-7876-5490-6 (V ol. 1)\\n0-7876-5491-4 (V ol. 2)\\n0-7876-5492-2 (V ol. 3)\\n0-7876-5493-0 (V ol. 4)\\n0-7876-5494-9 (V ol. 5)\\nPrinted in the United States of America\\n10 9 8 7 6 5 4 3 2 1\\nLibrary of Congress Cataloging-in-Publication Data\\nGale encyclopedia of medicine / Jacqueline L. Longe, editor;\\nDeirdre S. Blanchfield, associate editor — 2nd ed.\\np. cm.'),\n",
       " Document(metadata={'source': 'data\\\\Medical_book.pdf'}, page_content='p. cm.\\nIncludes bibliographical references and index.\\nContents: V ol. 1. A-B — v. 2. C-F — v. 3.\\nG-M — v. 4. N-S — v. 5. T-Z.\\nISBN 0-7876-5489-2 (set: hardcover) — ISBN 0-7876-5490-6\\n(vol. 1) — ISBN 0-7876-5491-4 (vol. 2) — ISBN 0-7876-5492-2\\n(vol. 3) — ISBN 0-7876-5493-0 (vol. 4) — ISBN 0-7876-5494-9\\n(vol. 5)\\n1. Internal medicine—Encyclopedias. I. Longe, Jacqueline L. \\nII. Blanchfield, Deirdre S. III. Gale Research Company.\\nRC41.G35 2001\\n616’.003—dc21\\n2001051245')]"
      ]
     },
     "execution_count": 14,
     "metadata": {},
     "output_type": "execute_result"
    }
   ],
   "source": [
    "text_chunks[:10]"
   ]
  },
  {
   "cell_type": "code",
   "execution_count": 15,
   "id": "b830ac59",
   "metadata": {},
   "outputs": [
    {
     "name": "stderr",
     "output_type": "stream",
     "text": [
      "C:\\Users\\padhi\\AppData\\Local\\Temp\\ipykernel_2016\\2526635641.py:19: LangChainDeprecationWarning: The class `HuggingFaceEmbeddings` was deprecated in LangChain 0.2.2 and will be removed in 1.0. An updated version of the class exists in the :class:`~langchain-huggingface package and should be used instead. To use it run `pip install -U :class:`~langchain-huggingface` and import as `from :class:`~langchain_huggingface import HuggingFaceEmbeddings``.\n",
      "  embeddings = HuggingFaceEmbeddings(\n",
      "f:\\python_venv\\venv_medical_chatbot\\Lib\\site-packages\\tqdm\\auto.py:21: TqdmWarning: IProgress not found. Please update jupyter and ipywidgets. See https://ipywidgets.readthedocs.io/en/stable/user_install.html\n",
      "  from .autonotebook import tqdm as notebook_tqdm\n"
     ]
    }
   ],
   "source": [
    "# get the embeddings model.\n",
    "# Embedding models are machine learning models that transform data \n",
    "# (like text, images, or audio) into numerical representations called embeddings. \n",
    "# These embeddings capture the semantic meaning and relationships within the data, \n",
    "# allowing machines to understand and compare them in a meaningful way.\n",
    "\n",
    "from langchain.embeddings import HuggingFaceEmbeddings\n",
    "\n",
    "def download_mebeddings():\n",
    "    \"\"\"\n",
    "    Download and return the HuggingFace embeddings model.\n",
    "\n",
    "    Here, I am using the below embedding model:\n",
    "    all-MiniLM-L6-v2\n",
    "    This is a sentence-transformers model: It maps sentences & paragraphs to a \n",
    "    384 dimensional dense vector space and can be used for tasks like clustering or semantic search.\n",
    "    \"\"\"\n",
    "    model_name = \"sentence-transformers/all-MiniLM-L6-v2\"\n",
    "    embeddings = HuggingFaceEmbeddings(\n",
    "        model_name=model_name\n",
    "    )\n",
    "    return embeddings\n",
    "\n",
    "embedding_model = download_mebeddings()\n"
   ]
  },
  {
   "cell_type": "code",
   "execution_count": 17,
   "id": "5aaa3209",
   "metadata": {},
   "outputs": [
    {
     "data": {
      "text/plain": [
       "[-0.03447727486491203,\n",
       " 0.03102312609553337,\n",
       " 0.006734980270266533,\n",
       " 0.026108933612704277,\n",
       " -0.03936205804347992,\n",
       " -0.16030246019363403,\n",
       " 0.06692394614219666,\n",
       " -0.006441438104957342,\n",
       " -0.047450482845306396,\n",
       " 0.014758863486349583,\n",
       " 0.07087534666061401,\n",
       " 0.05552757531404495,\n",
       " 0.019193356856703758,\n",
       " -0.02625126577913761,\n",
       " -0.01010954286903143,\n",
       " -0.026940442621707916,\n",
       " 0.022307462990283966,\n",
       " -0.02222665585577488,\n",
       " -0.14969263970851898,\n",
       " -0.017493024468421936,\n",
       " 0.007676282897591591,\n",
       " 0.054352231323719025,\n",
       " 0.0032544038258492947,\n",
       " 0.03172588348388672,\n",
       " -0.08462139964103699,\n",
       " -0.029405992478132248,\n",
       " 0.051595550030469894,\n",
       " 0.048124078661203384,\n",
       " -0.003314835485070944,\n",
       " -0.05827915295958519,\n",
       " 0.04196925833821297,\n",
       " 0.022210702300071716,\n",
       " 0.1281888633966446,\n",
       " -0.022338951006531715,\n",
       " -0.011656239628791809,\n",
       " 0.06292837113142014,\n",
       " -0.03287634998559952,\n",
       " -0.09122604131698608,\n",
       " -0.03117534890770912,\n",
       " 0.052699536085128784,\n",
       " 0.04703483358025551,\n",
       " -0.08420310169458389,\n",
       " -0.030056182295084,\n",
       " -0.020744839683175087,\n",
       " 0.009517822414636612,\n",
       " -0.003721762914210558,\n",
       " 0.00734331738203764,\n",
       " 0.03932439535856247,\n",
       " 0.09327399730682373,\n",
       " -0.0037885578349232674,\n",
       " -0.05274209380149841,\n",
       " -0.05805816873908043,\n",
       " -0.006864397320896387,\n",
       " 0.005283216945827007,\n",
       " 0.0828929990530014,\n",
       " 0.019362706691026688,\n",
       " 0.006284490693360567,\n",
       " -0.010330768302083015,\n",
       " 0.009032364934682846,\n",
       " -0.037683695554733276,\n",
       " -0.045206066220998764,\n",
       " 0.024016287177801132,\n",
       " -0.006944162305444479,\n",
       " 0.013491649180650711,\n",
       " 0.10005491971969604,\n",
       " -0.07168387621641159,\n",
       " -0.021695099771022797,\n",
       " 0.03161845728754997,\n",
       " -0.05163457617163658,\n",
       " -0.0822477638721466,\n",
       " -0.06569331884384155,\n",
       " -0.009895353578031063,\n",
       " 0.005816371645778418,\n",
       " 0.07355457544326782,\n",
       " -0.03405033051967621,\n",
       " 0.02488613687455654,\n",
       " 0.014488051645457745,\n",
       " 0.02645733952522278,\n",
       " 0.00965669471770525,\n",
       " 0.03021721914410591,\n",
       " 0.05280400812625885,\n",
       " -0.07535992562770844,\n",
       " 0.009897175244987011,\n",
       " 0.02983679808676243,\n",
       " 0.01755562797188759,\n",
       " 0.02309201844036579,\n",
       " 0.0019338484853506088,\n",
       " 0.0014002117095515132,\n",
       " -0.047175947576761246,\n",
       " -0.01119430921971798,\n",
       " -0.11420140415430069,\n",
       " -0.019811974838376045,\n",
       " 0.04026620835065842,\n",
       " 0.002193015068769455,\n",
       " -0.07979219406843185,\n",
       " -0.025382323190569878,\n",
       " 0.09448298066854477,\n",
       " -0.028981072828173637,\n",
       " -0.1450025588274002,\n",
       " 0.23097744584083557,\n",
       " 0.027731169015169144,\n",
       " 0.03211147338151932,\n",
       " 0.03106500953435898,\n",
       " 0.04283282533288002,\n",
       " 0.06423778086900711,\n",
       " 0.03216315060853958,\n",
       " -0.004876742139458656,\n",
       " 0.05569940060377121,\n",
       " -0.03753245621919632,\n",
       " -0.021505557000637054,\n",
       " -0.02834269404411316,\n",
       " -0.028846969828009605,\n",
       " 0.038353074342012405,\n",
       " -0.017468687146902084,\n",
       " 0.052485279738903046,\n",
       " -0.07487601786851883,\n",
       " -0.03125973790884018,\n",
       " 0.021841581910848618,\n",
       " -0.039895690977573395,\n",
       " -0.008587119169533253,\n",
       " 0.026956595480442047,\n",
       " -0.04849553480744362,\n",
       " 0.011469870805740356,\n",
       " 0.029618198052048683,\n",
       " -0.02057221718132496,\n",
       " 0.013103905133903027,\n",
       " 0.02883351780474186,\n",
       " -3.194198350138249e-33,\n",
       " 0.06478210538625717,\n",
       " -0.01813018135726452,\n",
       " 0.05178992450237274,\n",
       " 0.12198279052972794,\n",
       " 0.028780171647667885,\n",
       " 0.008721987716853619,\n",
       " -0.07052117586135864,\n",
       " -0.016907278448343277,\n",
       " 0.04073971137404442,\n",
       " 0.042116183787584305,\n",
       " 0.025447247549891472,\n",
       " 0.03574629873037338,\n",
       " -0.049144718796014786,\n",
       " 0.002128997351974249,\n",
       " -0.01554661151021719,\n",
       " 0.05073055252432823,\n",
       " -0.04818534478545189,\n",
       " 0.035880617797374725,\n",
       " -0.004067136440426111,\n",
       " 0.10172470659017563,\n",
       " -0.05597003176808357,\n",
       " -0.010681075975298882,\n",
       " 0.011235758662223816,\n",
       " 0.09068655222654343,\n",
       " 0.00423447648063302,\n",
       " 0.035138633102178574,\n",
       " -0.009702893905341625,\n",
       " -0.09386512637138367,\n",
       " 0.0928555577993393,\n",
       " 0.008004925213754177,\n",
       " -0.00770544121041894,\n",
       " -0.05208677053451538,\n",
       " -0.012587991543114185,\n",
       " 0.003266935469582677,\n",
       " 0.006013551261276007,\n",
       " 0.007581597194075584,\n",
       " 0.01051716785877943,\n",
       " -0.08634556829929352,\n",
       " -0.06987878680229187,\n",
       " -0.002533907536417246,\n",
       " -0.09097649902105331,\n",
       " 0.046887341886758804,\n",
       " 0.052076555788517,\n",
       " 0.007193804252892733,\n",
       " 0.010903613641858101,\n",
       " -0.005229524336755276,\n",
       " 0.013937273994088173,\n",
       " 0.021968383342027664,\n",
       " 0.03420863673090935,\n",
       " 0.06022472307085991,\n",
       " 0.00011663129407679662,\n",
       " 0.0147319370880723,\n",
       " -0.07008928060531616,\n",
       " 0.02849903330206871,\n",
       " -0.02760171703994274,\n",
       " 0.010768436826765537,\n",
       " 0.03483092784881592,\n",
       " -0.022487863898277283,\n",
       " 0.009769013151526451,\n",
       " 0.07722778618335724,\n",
       " 0.02158835344016552,\n",
       " 0.11495622247457504,\n",
       " -0.06800112128257751,\n",
       " 0.023760998621582985,\n",
       " -0.015983954071998596,\n",
       " -0.017826983705163002,\n",
       " 0.06439491361379623,\n",
       " 0.032025717198848724,\n",
       " 0.050270259380340576,\n",
       " -0.005913740489631891,\n",
       " -0.03370802477002144,\n",
       " 0.017840281128883362,\n",
       " 0.01657339744269848,\n",
       " 0.0632966086268425,\n",
       " 0.034677211195230484,\n",
       " 0.04647349566221237,\n",
       " 0.09790609776973724,\n",
       " -0.006635513622313738,\n",
       " 0.025207048282027245,\n",
       " -0.07798825949430466,\n",
       " 0.016926418989896774,\n",
       " -0.0009457779233343899,\n",
       " 0.022471917793154716,\n",
       " -0.03825320303440094,\n",
       " 0.09570479393005371,\n",
       " -0.005350787658244371,\n",
       " 0.010469076223671436,\n",
       " -0.11524051427841187,\n",
       " -0.013262561522424221,\n",
       " -0.010709395632147789,\n",
       " -0.08311726897954941,\n",
       " 0.07327356934547424,\n",
       " 0.04939223825931549,\n",
       " -0.00899433996528387,\n",
       " -0.09584550559520721,\n",
       " 3.366148929092564e-33,\n",
       " 0.12493181973695755,\n",
       " 0.01934974081814289,\n",
       " -0.05822570249438286,\n",
       " -0.03598824888467789,\n",
       " -0.050746724009513855,\n",
       " -0.04566236957907677,\n",
       " -0.08260342478752136,\n",
       " 0.14819477498531342,\n",
       " -0.08842118829488754,\n",
       " 0.06027447059750557,\n",
       " 0.05103014037013054,\n",
       " 0.010303172282874584,\n",
       " 0.14121423661708832,\n",
       " 0.030813811346888542,\n",
       " 0.06103315204381943,\n",
       " -0.052851274609565735,\n",
       " 0.13664892315864563,\n",
       " 0.009189884178340435,\n",
       " -0.01732519268989563,\n",
       " -0.012848627753555775,\n",
       " -0.00799529068171978,\n",
       " -0.05098007991909981,\n",
       " -0.05235067382454872,\n",
       " 0.007593018934130669,\n",
       " -0.015166306868195534,\n",
       " 0.01696031726896763,\n",
       " 0.021270545199513435,\n",
       " 0.020558075979351997,\n",
       " -0.12002813071012497,\n",
       " 0.01446185540407896,\n",
       " 0.026759909465909004,\n",
       " 0.025330649688839912,\n",
       " -0.04275461286306381,\n",
       " 0.006768523249775171,\n",
       " -0.01445859856903553,\n",
       " 0.04526195675134659,\n",
       " -0.09147650748491287,\n",
       " -0.019439177587628365,\n",
       " -0.017833411693572998,\n",
       " -0.054910145699977875,\n",
       " -0.05264107510447502,\n",
       " -0.010459030978381634,\n",
       " -0.05201607942581177,\n",
       " 0.02089197374880314,\n",
       " -0.07997031509876251,\n",
       " -0.012111341580748558,\n",
       " -0.05773143470287323,\n",
       " 0.023178255185484886,\n",
       " -0.008031717501580715,\n",
       " -0.02598929964005947,\n",
       " -0.07995675504207611,\n",
       " -0.02072884514927864,\n",
       " 0.04881766065955162,\n",
       " -0.020389163866639137,\n",
       " -0.04917655140161514,\n",
       " 0.014159641228616238,\n",
       " -0.06362203508615494,\n",
       " -0.007807410322129726,\n",
       " 0.016431529074907303,\n",
       " -0.025682512670755386,\n",
       " 0.013381082564592361,\n",
       " 0.026248749345541,\n",
       " 0.009978425689041615,\n",
       " 0.06322886049747467,\n",
       " 0.0026721833273768425,\n",
       " -0.006582764443010092,\n",
       " 0.016631918027997017,\n",
       " 0.03236647695302963,\n",
       " 0.037942491471767426,\n",
       " -0.03637608885765076,\n",
       " -0.00691094808280468,\n",
       " 0.00015967199578881264,\n",
       " -0.0016335744876414537,\n",
       " -0.027278205379843712,\n",
       " -0.028038082644343376,\n",
       " 0.049681469798088074,\n",
       " -0.028867201879620552,\n",
       " -0.0024180635809898376,\n",
       " 0.014774911105632782,\n",
       " 0.009764522314071655,\n",
       " 0.0057976427488029,\n",
       " 0.013486180454492569,\n",
       " 0.005567898042500019,\n",
       " 0.03722712770104408,\n",
       " 0.007232568226754665,\n",
       " 0.0401562824845314,\n",
       " 0.08150329440832138,\n",
       " 0.0719916895031929,\n",
       " -0.013056193478405476,\n",
       " -0.042882055044174194,\n",
       " -0.011011265218257904,\n",
       " 0.004897848702967167,\n",
       " -0.009229736402630806,\n",
       " 0.03519150987267494,\n",
       " -0.05103505402803421,\n",
       " -1.571437735492509e-08,\n",
       " -0.08862441778182983,\n",
       " 0.02390933223068714,\n",
       " -0.016238776966929436,\n",
       " 0.0317004919052124,\n",
       " 0.02728421799838543,\n",
       " 0.05246885120868683,\n",
       " -0.047070927917957306,\n",
       " -0.05884743481874466,\n",
       " -0.06320816278457642,\n",
       " 0.04088856652379036,\n",
       " 0.049827951937913895,\n",
       " 0.10655169188976288,\n",
       " -0.07450232654809952,\n",
       " -0.01249542087316513,\n",
       " 0.01837068982422352,\n",
       " 0.039474111050367355,\n",
       " -0.024797888472676277,\n",
       " 0.014516275376081467,\n",
       " -0.037069227546453476,\n",
       " 0.020015744492411613,\n",
       " -4.8564306780463085e-05,\n",
       " 0.009866592474281788,\n",
       " 0.024838760495185852,\n",
       " -0.052458155900239944,\n",
       " 0.0293141920119524,\n",
       " -0.08719189465045929,\n",
       " -0.014499715529382229,\n",
       " 0.026019079610705376,\n",
       " -0.018746377900242805,\n",
       " -0.07620511204004288,\n",
       " 0.03504331782460213,\n",
       " 0.10363952070474625,\n",
       " -0.028050491586327553,\n",
       " 0.01271819043904543,\n",
       " -0.07632547616958618,\n",
       " -0.018652357161045074,\n",
       " 0.024976696819067,\n",
       " 0.08144534379243851,\n",
       " 0.06875885277986526,\n",
       " -0.06405666470527649,\n",
       " -0.08389385789632797,\n",
       " 0.0613623782992363,\n",
       " -0.033545542508363724,\n",
       " -0.10615336894989014,\n",
       " -0.04008054360747337,\n",
       " 0.03253024443984032,\n",
       " 0.07662481814622879,\n",
       " -0.07301618903875351,\n",
       " 0.00033757087658159435,\n",
       " -0.040871601551771164,\n",
       " -0.0757884755730629,\n",
       " 0.0275277066975832,\n",
       " 0.0746254101395607,\n",
       " 0.01771729439496994,\n",
       " 0.0912184864282608,\n",
       " 0.11022017151117325,\n",
       " 0.0005698017776012421,\n",
       " 0.051463354378938675,\n",
       " -0.01455135177820921,\n",
       " 0.03323202580213547,\n",
       " 0.02379227988421917,\n",
       " -0.022889869287610054,\n",
       " 0.0389375165104866,\n",
       " 0.030206838622689247]"
      ]
     },
     "execution_count": 17,
     "metadata": {},
     "output_type": "execute_result"
    }
   ],
   "source": [
    "\"\"\"\n",
    "embed_query()\n",
    "Compute query embeddings using a HuggingFace transformer model.\n",
    "\n",
    "Args:\n",
    "    text: The text to embed.\n",
    "\n",
    "Returns\n",
    "    out: Embeddings for the text.\n",
    "\"\"\"\n",
    "vector = embedding_model.embed_query(\"Hello World\")\n",
    "vector"
   ]
  },
  {
   "cell_type": "code",
   "execution_count": 18,
   "id": "a3d3b36b",
   "metadata": {},
   "outputs": [
    {
     "name": "stdout",
     "output_type": "stream",
     "text": [
      "384\n"
     ]
    }
   ],
   "source": [
    "print(len(vector))"
   ]
  },
  {
   "cell_type": "code",
   "execution_count": 19,
   "id": "727eb7cd",
   "metadata": {},
   "outputs": [],
   "source": [
    "# store the vectors to the Pinecone vector database."
   ]
  },
  {
   "cell_type": "code",
   "execution_count": 20,
   "id": "e793a622",
   "metadata": {},
   "outputs": [
    {
     "data": {
      "text/plain": [
       "True"
      ]
     },
     "execution_count": 20,
     "metadata": {},
     "output_type": "execute_result"
    }
   ],
   "source": [
    "# load the Pinecone API key\n",
    "from dotenv import load_dotenv\n",
    "import os\n",
    "load_dotenv()\n"
   ]
  },
  {
   "cell_type": "code",
   "execution_count": 21,
   "id": "97fd7c01",
   "metadata": {},
   "outputs": [],
   "source": [
    "PINECONE_API_KEY = os.getenv(\"PINECONE_API_KEY\")\n",
    "OPENAI_API_KEY = os.getenv(\"OPENAI_API_KEY\")\n",
    "\n",
    "os.environ[\"PINECONE_API_KEY\"] = PINECONE_API_KEY\n",
    "os.environ[\"OPENAI_API_KEY\"] = OPENAI_API_KEY"
   ]
  },
  {
   "cell_type": "code",
   "execution_count": 77,
   "id": "e0528b00",
   "metadata": {},
   "outputs": [
    {
     "data": {
      "text/plain": [
       "'pcsk_4VCHee_RA4Q1NuweS6ZiPSK8Y8PmafswH3AQrR7R2qdsUesgy1jmNZaqfKNLR43YgMm3Q5'"
      ]
     },
     "execution_count": 77,
     "metadata": {},
     "output_type": "execute_result"
    }
   ],
   "source": [
    "PINECONE_API_KEY"
   ]
  },
  {
   "cell_type": "code",
   "execution_count": 22,
   "id": "03835d9e",
   "metadata": {},
   "outputs": [
    {
     "data": {
      "text/plain": [
       "'x6UpvGAsWY73ZM2rg1dbFh1cggl1X67sAAygowbF'"
      ]
     },
     "execution_count": 22,
     "metadata": {},
     "output_type": "execute_result"
    }
   ],
   "source": [
    "OPENAI_API_KEY"
   ]
  },
  {
   "cell_type": "code",
   "execution_count": 23,
   "id": "6fdcca2f",
   "metadata": {},
   "outputs": [],
   "source": [
    "# create an index in Pinecone.\n",
    "from pinecone import Pinecone\n",
    "\n",
    "# initialize a pinecone client with your API key.\n",
    "pc = Pinecone(api_key=PINECONE_API_KEY)\n"
   ]
  },
  {
   "cell_type": "code",
   "execution_count": 26,
   "id": "7a07fe94",
   "metadata": {},
   "outputs": [],
   "source": [
    "# create a database \n",
    "# Create a dense index with integrated embedding\n",
    "from pinecone import ServerlessSpec\n",
    "\n",
    "index_name = \"medical-chatbot\""
   ]
  },
  {
   "cell_type": "code",
   "execution_count": null,
   "id": "8d72971d",
   "metadata": {},
   "outputs": [],
   "source": [
    "\n",
    "\n",
    "\"\"\"\n",
    "create_index(): Creates a Pinecone index.\n",
    "\n",
    "Parameters\n",
    "    name : str\n",
    "        The name of the index to create. Must be unique within your project and cannot be \n",
    "        changed once created. Allowed characters are lowercase letters, numbers, and \n",
    "        hyphens and the name may not begin or end with hyphens. Maximum length is 45 \n",
    "        characters.\n",
    "    metric : str, optional\n",
    "        Type of similarity metric used in the vector index when querying, one of \n",
    "        {\"cosine\", \"dotproduct\", \"euclidean\"}.\n",
    "    spec : Dict\n",
    "        A dictionary containing configurations describing how the index should be deployed. \n",
    "        For serverless indexes, specify region and cloud. For pod indexes, specify replicas, \n",
    "        shards, pods, pod_type, metadata_config, and source_collection. Alternatively, use \n",
    "        the ServerlessSpec, PodSpec, or ByocSpec objects to specify these configurations.\n",
    "    dimension : int\n",
    "        If you are creating an index with vector_type=\"dense\" (which is the default), you \n",
    "        need to specify dimension to indicate the size of your vectors. This should match \n",
    "        the dimension of the embeddings you will be inserting. For example, if you are \n",
    "        using OpenAI's CLIP model, you should use dimension=1536. Dimension is a \n",
    "        required field when creating an index with vector_type=\"dense\" and should not \n",
    "        be passed when vector_type=\"sparse\".\n",
    "\"\"\"\n",
    "if not pc.has_index(index_name):\n",
    "    pc.create_index(\n",
    "        name=index_name,\n",
    "        metric=\"cosine\", # consine similarity\n",
    "        spec=ServerlessSpec(cloud=\"aws\", region=\"us-east-1\"),\n",
    "        dimension=384 # dimension of the embeddings\n",
    "    )\n",
    "\n",
    "index = pc.Index(index_name)"
   ]
  },
  {
   "cell_type": "code",
   "execution_count": null,
   "id": "76993ad1",
   "metadata": {},
   "outputs": [],
   "source": [
    "# store the vector.\n",
    "from langchain_pinecone import PineconeVectorStore\n",
    "\n",
    "# take all of the text chunks, use the embedding model to convert the chunks \n",
    "# into vector embedding, and store it in Pinecone vector database.\n",
    "docsearch = PineconeVectorStore.from_documents(\n",
    "    documents=text_chunks, \n",
    "    embedding=embedding_model, \n",
    "    index_name=index_name\n",
    ")"
   ]
  },
  {
   "cell_type": "code",
   "execution_count": 27,
   "id": "a18c70bb",
   "metadata": {},
   "outputs": [],
   "source": [
    "from langchain_pinecone import PineconeVectorStore\n",
    "\n",
    "# Once we are done storing the vectors in pinecone vector database, \n",
    "# we usually want to:\n",
    "#     Run similarity search\n",
    "#     Query existing data\n",
    "#     Use retrieval for a chatbot or RAG pipeline\n",
    "# To do that, we do not need to recreate the index from documents — \n",
    "# instead, we just connect to it using from_existing_index()\n",
    "\n",
    "docsearch = PineconeVectorStore.from_existing_index(\n",
    "    index_name=index_name,\n",
    "    embedding=embedding_model\n",
    ")"
   ]
  },
  {
   "cell_type": "code",
   "execution_count": null,
   "id": "2e0b1f9a",
   "metadata": {},
   "outputs": [
    {
     "data": {
      "text/plain": [
       "['e04deacd-1046-4080-becf-9d0054a65810']"
      ]
     },
     "execution_count": 30,
     "metadata": {},
     "output_type": "execute_result"
    }
   ],
   "source": [
    "# # if we want to add more data to the existing pinecone index,\n",
    "# # another pdf, etc:\n",
    "\n",
    "# extra_document = Document(\n",
    "#     page_content=\"karansinh padhiar is a passionate data scientist.\",\n",
    "#     metadata = {\"source\": \"Personal\"}\n",
    "# )\n",
    "# docsearch.add_documents(documents=[extra_document])\n",
    "# # it adds the above content to the existing vector database and \n",
    "# # returns the index of that document.\n",
    "# # index - also called key - unique id for each document (sentence)."
   ]
  },
  {
   "cell_type": "code",
   "execution_count": 28,
   "id": "ece5aa23",
   "metadata": {},
   "outputs": [],
   "source": [
    "# now, we have stored everything in our knowledge: pinenone vector database.\n",
    "# now, we will create a retriever, and connect the LLM.\n",
    "retriever = docsearch.as_retriever(search_type=\"similarity\", \n",
    "                                   search_kwargs={\"k\" : 3}) # get 3 most similar responses from the vector dataset.\n"
   ]
  },
  {
   "cell_type": "code",
   "execution_count": 29,
   "id": "7603c633",
   "metadata": {},
   "outputs": [
    {
     "data": {
      "text/plain": [
       "[Document(id='5b245592-fc55-4e5f-ab4e-0672d89b9215', metadata={'source': 'data\\\\Medical_book.pdf'}, page_content='GALE ENCYCLOPEDIA OF MEDICINE 226\\nAcne\\nGEM - 0001 to 0432 - A  10/22/03 1:41 PM  Page 26'),\n",
       " Document(id='e8324649-ad85-499c-ba1d-1efc0b6fc362', metadata={'source': 'data\\\\Medical_book.pdf'}, page_content='GALE ENCYCLOPEDIA OF MEDICINE 2 25\\nAcne\\nAcne vulgaris affecting a woman’s face. Acne is the general\\nname given to a skin disorder in which the sebaceous\\nglands become inflamed. (Photograph by Biophoto Associ-\\nates, Photo Researchers, Inc. Reproduced by permission.)\\nGEM - 0001 to 0432 - A  10/22/03 1:41 PM  Page 25'),\n",
       " Document(id='c5902bc6-2e29-4a94-8cfe-ef7c61360876', metadata={'source': 'data\\\\Medical_book.pdf'}, page_content='Acidosis see Respiratory acidosis; Renal\\ntubular acidosis; Metabolic acidosis\\nAcne\\nDefinition\\nAcne is a common skin disease characterized by\\npimples on the face, chest, and back. It occurs when the\\npores of the skin become clogged with oil, dead skin\\ncells, and bacteria.\\nDescription\\nAcne vulgaris, the medical term for common acne, is\\nthe most common skin disease. It affects nearly 17 million\\npeople in the United States. While acne can arise at any')]"
      ]
     },
     "execution_count": 29,
     "metadata": {},
     "output_type": "execute_result"
    }
   ],
   "source": [
    "# Invoke the retriever to get relevant documents.\n",
    "retrieved_docs = retriever.invoke(input=\"What is Acne?\")\n",
    "# it will return 3 most similar responses\n",
    "retrieved_docs"
   ]
  },
  {
   "cell_type": "code",
   "execution_count": null,
   "id": "ef1f9453",
   "metadata": {},
   "outputs": [
    {
     "name": "stdout",
     "output_type": "stream",
     "text": [
      "Elon Musk is a South‑African‑born entrepreneur and engineer who has become one of the most prominent figures in technology and business. Here are some key points about him:\n",
      "\n",
      "| Category | Details |\n",
      "|----------|---------|\n",
      "| **Full Name** | Elon Reeve Musk |\n",
      "| **Birth** | June 28 1971, Pretoria, South Africa |\n",
      "| **Citizenship** | South African (by birth), Canadian (through his mother), and U.S. (naturalized) |\n",
      "| **Education** | Attended the University of Pretoria (briefly), Queen’s University (Ontario), then transferred to the University of Pennsylvania, where he earned a B.S. in Physics and a B.S. in Economics (Wharton). He also enrolled in a Ph.D. program at Stanford for applied physics but left after two days to pursue business ventures. |\n",
      "| **Major Companies** | • **Zip2** (1996‑1999) – early online city guide, sold to Compaq for ~$300 M<br>• **X.com / PayPal** (1999‑2002) – online payment system, sold to eBay for $1.5 B<br>• **SpaceX** (2002‑present) – private aerospace manufacturer and space‑flight services company; notable achievements include the Falcon rockets, Dragon spacecraft, and the Starlink satellite internet constellation.<br>• **Tesla, Inc.** (joined 2004, CEO & product architect) – electric‑vehicle maker and clean‑energy company; expanded into batteries, solar products, and autonomous driving technology.<br>• **Neuralink** (2016‑present) – neurotechnology firm developing brain‑computer interfaces.<br>• **The Boring Company** (2016‑present) – infrastructure and tunneling company focusing on transportation tunnels.<br>• **Twitter / X** (acquired 2022) – social‑media platform, rebranded as “X” with a vision of an “everything app.” |\n",
      "| **Vision & Influence** | Musk is known for championing large‑scale, high‑risk projects aimed at reshaping the future: <br>• Reducing the cost of space travel and eventually colonizing Mars.<br>• Accelerating the transition to sustainable energy through electric cars, battery storage, and solar power.<br>• Advancing artificial intelligence safety and integration via Neuralink.<br>• Transforming urban transport with tunneling and high‑speed transit concepts (e.g., Hyperloop). |\n",
      "| **Public Persona** | • Highly active on social media (especially Twitter/X), where his posts can move markets and spark controversy.<br>• Frequently appears in media interviews, podcasts, and conferences.<br>• Known for a bold, sometimes provocative communication style and a willingness to take on regulatory or industry pushback. |\n",
      "| **Awards & Recognition** | • Time Magazine’s “Person of the Year” (2021).<br>• Numerous honorary doctorates and industry awards for innovation, engineering, and entrepreneurship.<br>• Listed among the world’s richest individuals (often topping the Forbes billionaire rankings). |\n",
      "| **Criticism & Controversies** | • Labor relations and workplace safety concerns at Tesla factories.<br>• Public statements that have conflicted with regulatory bodies (e.g., SEC, FAA).<br>• Management style and high‑profile legal battles (e.g., defamation suits, securities‑fraud allegations).<br>• Concerns about the social impact of his platforms and products (e.g., content moderation on X). |\n",
      "\n",
      "Overall, Elon Musk is a polarizing figure—a visionary who has driven major technological advances, especially in electric transportation and private spaceflight, while also attracting significant scrutiny for his business practices and public behavior.\n"
     ]
    }
   ],
   "source": [
    "# # connect the LLM\n",
    "# from langchain_openai import ChatOpenAI\n",
    "# chat_model = ChatOpenAI(model=\"@cf/openai/gpt-oss-120b\")\n",
    "\n",
    "from langchain_core.language_models import LLM\n",
    "from typing import Optional, List\n",
    "import requests\n",
    "import json\n",
    "\n",
    "class CloudflareLLM(LLM):\n",
    "    cloudflare_user_id: str\n",
    "    api_key: str\n",
    "    model: str = \"@cf/openai/gpt-oss-120b\"\n",
    "\n",
    "    def _call(self, prompt: str, stop: Optional[List[str]] = None) -> str:\n",
    "        url = f\"https://api.cloudflare.com/client/v4/accounts/{self.cloudflare_user_id}/ai/run/{self.model}\"\n",
    "        headers = {\n",
    "            \"Authorization\": f\"Bearer {self.api_key}\",\n",
    "            \"Content-Type\": \"application/json\"\n",
    "        }\n",
    "        payload = json.dumps({\n",
    "            \"input\": prompt\n",
    "        })\n",
    "        response = requests.post(url, headers=headers, data=payload)\n",
    "        result = response.json()\n",
    "\n",
    "        if not result[\"success\"]:\n",
    "            raise Exception(result[\"errors\"])\n",
    "        \n",
    "        return result[\"result\"][\"output\"][-1][\"content\"][0][\"text\"]  # This depends on Cloudflare's exact response structure\n",
    "\n",
    "    @property\n",
    "    def _llm_type(self) -> str:\n",
    "        return \"cloudflare_llm\"\n",
    "\n",
    "llm = CloudflareLLM(\n",
    "    cloudflare_user_id=\"1e68d54f3b2a5e5c8b567a3574827073\",\n",
    "    api_key=OPENAI_API_KEY,\n",
    "    model=\"@cf/openai/gpt-oss-120b\"\n",
    ")\n",
    "\n",
    "response = llm.invoke(\"Who is Elon Musk?\")\n",
    "print(response)"
   ]
  },
  {
   "cell_type": "code",
   "execution_count": 31,
   "id": "32f57708",
   "metadata": {},
   "outputs": [],
   "source": [
    "# create a langchain chain.\n",
    "from langchain.chains import create_retrieval_chain\n",
    "from langchain.chains.combine_documents import create_stuff_documents_chain\n",
    "from langchain_core.prompts import ChatPromptTemplate\n",
    "\n",
    "\n",
    "system_prompt = (\n",
    "    \"You are a medical assistant for question-answering tasks. \"\n",
    "    \"Use the following pieces of retrieved contect to answer \"\n",
    "    \"the question. If you do not know the answer, say that you \"\n",
    "    \"do not know. Use three sentences maximum and keep the \"\n",
    "    \"answer concise, meaningful, useful and understandable.\"\n",
    "    \"\\n\\n\"\n",
    "    \"{context}\"\n",
    ")\n",
    "\n",
    "# Create a chat prompt template from a variety of message formats.\n",
    "prompt = ChatPromptTemplate.from_messages(\n",
    "    [\n",
    "        (\"system\", system_prompt),\n",
    "        (\"human\", \"{input}\")\n",
    "    ]\n",
    ")\n"
   ]
  },
  {
   "cell_type": "code",
   "execution_count": 32,
   "id": "fa792064",
   "metadata": {},
   "outputs": [],
   "source": [
    "# Create a chain for passing a list of Documents to a model.\n",
    "question_answer_chain = create_stuff_documents_chain(llm=llm, \n",
    "                                                     prompt=prompt)\n",
    "\n",
    "rag_chain = create_retrieval_chain(retriever, question_answer_chain)\n"
   ]
  },
  {
   "cell_type": "code",
   "execution_count": 33,
   "id": "37567984",
   "metadata": {},
   "outputs": [
    {
     "name": "stdout",
     "output_type": "stream",
     "text": [
      "I do not know.\n"
     ]
    }
   ],
   "source": [
    "# now the chain is created.\n",
    "# now, we can ask any kinds of questions.\n",
    "response = rag_chain.invoke({\"input\" : \"who is elon musk?\"})\n",
    "print(response[\"answer\"])\n"
   ]
  },
  {
   "cell_type": "code",
   "execution_count": null,
   "id": "f6127209",
   "metadata": {},
   "outputs": [],
   "source": []
  },
  {
   "cell_type": "code",
   "execution_count": null,
   "id": "bcb4ed44",
   "metadata": {},
   "outputs": [],
   "source": []
  },
  {
   "cell_type": "code",
   "execution_count": null,
   "id": "67d62c27",
   "metadata": {},
   "outputs": [],
   "source": []
  }
 ],
 "metadata": {
  "kernelspec": {
   "display_name": "venv_medical_chatbot (3.11.0)",
   "language": "python",
   "name": "python3"
  },
  "language_info": {
   "codemirror_mode": {
    "name": "ipython",
    "version": 3
   },
   "file_extension": ".py",
   "mimetype": "text/x-python",
   "name": "python",
   "nbconvert_exporter": "python",
   "pygments_lexer": "ipython3",
   "version": "3.11.0"
  }
 },
 "nbformat": 4,
 "nbformat_minor": 5
}
